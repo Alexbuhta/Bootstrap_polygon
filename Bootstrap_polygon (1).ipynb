{
 "cells": [
  {
   "cell_type": "code",
   "execution_count": null,
   "id": "5ce21208",
   "metadata": {},
   "outputs": [],
   "source": [
    "#проверка распредения с помощью метода бутстрап и определение стат значимости"
   ]
  },
  {
   "cell_type": "code",
   "execution_count": 1,
   "id": "6edad12f",
   "metadata": {
    "scrolled": true
   },
   "outputs": [
    {
     "data": {
      "text/html": [
       "<div>\n",
       "<style scoped>\n",
       "    .dataframe tbody tr th:only-of-type {\n",
       "        vertical-align: middle;\n",
       "    }\n",
       "\n",
       "    .dataframe tbody tr th {\n",
       "        vertical-align: top;\n",
       "    }\n",
       "\n",
       "    .dataframe thead th {\n",
       "        text-align: right;\n",
       "    }\n",
       "</style>\n",
       "<table border=\"1\" class=\"dataframe\">\n",
       "  <thead>\n",
       "    <tr style=\"text-align: right;\">\n",
       "      <th></th>\n",
       "      <th>group_name</th>\n",
       "      <th>revenue</th>\n",
       "    </tr>\n",
       "  </thead>\n",
       "  <tbody>\n",
       "    <tr>\n",
       "      <th>0</th>\n",
       "      <td>\"ab_inter_manual_360\"</td>\n",
       "      <td>0.003490</td>\n",
       "    </tr>\n",
       "    <tr>\n",
       "      <th>1</th>\n",
       "      <td>\"ab_inter_manual_540\"</td>\n",
       "      <td>0.015805</td>\n",
       "    </tr>\n",
       "    <tr>\n",
       "      <th>2</th>\n",
       "      <td>\"ab_inter_manual_360\"</td>\n",
       "      <td>0.001500</td>\n",
       "    </tr>\n",
       "    <tr>\n",
       "      <th>3</th>\n",
       "      <td>\"ab_inter_manual_540\"</td>\n",
       "      <td>0.001562</td>\n",
       "    </tr>\n",
       "    <tr>\n",
       "      <th>4</th>\n",
       "      <td>\"ab_inter_manual_360\"</td>\n",
       "      <td>0.005377</td>\n",
       "    </tr>\n",
       "    <tr>\n",
       "      <th>...</th>\n",
       "      <td>...</td>\n",
       "      <td>...</td>\n",
       "    </tr>\n",
       "    <tr>\n",
       "      <th>3027</th>\n",
       "      <td>\"ab_no_inter_auto\"</td>\n",
       "      <td>0.022863</td>\n",
       "    </tr>\n",
       "    <tr>\n",
       "      <th>3028</th>\n",
       "      <td>\"ab_no_inter_auto\"</td>\n",
       "      <td>0.017289</td>\n",
       "    </tr>\n",
       "    <tr>\n",
       "      <th>3029</th>\n",
       "      <td>\"ab_inter_manual_360\"</td>\n",
       "      <td>0.051120</td>\n",
       "    </tr>\n",
       "    <tr>\n",
       "      <th>3030</th>\n",
       "      <td>\"ab_inter_manual_540\"</td>\n",
       "      <td>0.574538</td>\n",
       "    </tr>\n",
       "    <tr>\n",
       "      <th>3031</th>\n",
       "      <td>\"ab_inter_manual_360\"</td>\n",
       "      <td>0.011124</td>\n",
       "    </tr>\n",
       "  </tbody>\n",
       "</table>\n",
       "<p>3032 rows × 2 columns</p>\n",
       "</div>"
      ],
      "text/plain": [
       "                 group_name   revenue\n",
       "0     \"ab_inter_manual_360\"  0.003490\n",
       "1     \"ab_inter_manual_540\"  0.015805\n",
       "2     \"ab_inter_manual_360\"  0.001500\n",
       "3     \"ab_inter_manual_540\"  0.001562\n",
       "4     \"ab_inter_manual_360\"  0.005377\n",
       "...                     ...       ...\n",
       "3027     \"ab_no_inter_auto\"  0.022863\n",
       "3028     \"ab_no_inter_auto\"  0.017289\n",
       "3029  \"ab_inter_manual_360\"  0.051120\n",
       "3030  \"ab_inter_manual_540\"  0.574538\n",
       "3031  \"ab_inter_manual_360\"  0.011124\n",
       "\n",
       "[3032 rows x 2 columns]"
      ]
     },
     "execution_count": 1,
     "metadata": {},
     "output_type": "execute_result"
    }
   ],
   "source": [
    "import pandas as pd\n",
    "from sqlalchemy import create_engine\n",
    "from snowflake.sqlalchemy import URL\n",
    "import numpy as np\n",
    "from scipy.stats import norm, mannwhitneyu\n",
    "import matplotlib.pyplot as plt\n",
    "from tqdm.auto import tqdm\n",
    "plt.style.use('ggplot')\n",
    "\n",
    "url = URL(\n",
    "    user=\"ABUHTAREVICH\",\n",
    "    password=\"/\",\n",
    "    account=\"/\",\n",
    "    warehouse=\"/\",\n",
    "    database=\"SEVEREX\",\n",
    "    schema=\"/\",\n",
    "    #role='xxxxx',\n",
    "    #authenticator='https://xxxxx.okta.com',\n",
    ")\n",
    "engine = create_engine(url)\n",
    "connection = engine.connect()\n",
    "\n",
    "query = '''\n",
    "with main as(SELECT *\n",
    "FROM \n",
    "       events\n",
    "WHERE \n",
    "      install_time::date between '2022-09-12' and '2022-11-03'\n",
    "        and event_time::date between '2022-09-12' and '2022-11-07'\n",
    "      and platform = 'android'\n",
    "      and app_id = 'com.europosit.polygon2d.coloringpuzzle'\n",
    "      and app_version = '3.0'\n",
    "      and country_code = 'RU'\n",
    "      and media_source = 'googleadwords_int'\n",
    "            ),\n",
    "\n",
    "rez as(SELECT  m.appsflyer_id\n",
    "        , s.group_name as group_name\n",
    "       , sum(m.EVENT_VALUE:revenue::float) as revenue\n",
    "FROM main m \n",
    "        left join (SELECT appsflyer_id\n",
    "                          , event_value:groupName as group_name\n",
    "                   FROM main\n",
    "                   WHERE event_value:testName = 'ab_inter_select'\n",
    "                         and event_value:groupName in ('ab_inter_manual_360', 'ab_no_inter_auto', 'ab_inter_manual_540')\n",
    "                    )s on m.appsflyer_id = s.appsflyer_id\n",
    "where s.group_name is not null\n",
    "--and revenue is not null\n",
    "group by 1,2)\n",
    "\n",
    "SELECT group_name\n",
    "        ,revenue\n",
    "FROM rez\n",
    "where revenue is not null\n",
    "        \n",
    "'''\n",
    "\n",
    "\n",
    "ab_test = pd.read_sql(query, connection)\n",
    "data_column_1 = ab_test[ab_test.group_name == '\"ab_no_inter_auto\"'].revenue\n",
    "data_column_2 = ab_test[ab_test.group_name == '\"ab_inter_manual_360\"'].revenue\n",
    "data_column_3 = ab_test[ab_test.group_name == '\"ab_inter_manual_540\"'].revenue\n",
    "ab_test"
   ]
  },
  {
   "cell_type": "code",
   "execution_count": 25,
   "id": "e5632c4e",
   "metadata": {},
   "outputs": [],
   "source": [
    "def get_bootstrap(\n",
    "    data_column_1, # числовые значения первой выборки\n",
    "    data_column_2, # числовые значения второй выборки\n",
    "    boot_it = 2000, # количество бутстрэп-подвыборок\n",
    "    statistic = np.mean,\n",
    "    bootstrap_conf_level = 0.95 # уровень значимости\n",
    "):\n",
    "    boot_len = max([len(data_column_1), len(data_column_2)])\n",
    "    boot_data = []\n",
    "    for i in tqdm(range(boot_it)):\n",
    "        samples_1 = data_column_1.sample(\n",
    "            boot_len, \n",
    "            replace = True\n",
    "        ).values\n",
    "        \n",
    "        samples_2 = data_column_2.sample(\n",
    "            boot_len, \n",
    "            replace = True\n",
    "        ).values\n",
    "        \n",
    "        boot_data.append(statistic(samples_1-samples_2)) \n",
    "        \n",
    "    pd_boot_data = pd.DataFrame(boot_data)\n",
    "        \n",
    "    left_quant = (1 - bootstrap_conf_level)/2\n",
    "    right_quant = 1 - (1 - bootstrap_conf_level) / 2\n",
    "    ci = pd_boot_data.quantile([left_quant, right_quant])\n",
    "        \n",
    "    p_1 = norm.cdf(\n",
    "        x = 0, \n",
    "        loc = np.mean(boot_data), \n",
    "        scale = np.std(boot_data)\n",
    "    )\n",
    "    p_2 = norm.cdf(\n",
    "        x = 0, \n",
    "        loc = -np.mean(boot_data), \n",
    "        scale = np.std(boot_data)\n",
    "    )\n",
    "    p_value = min(p_1, p_2) * 2\n",
    "        \n",
    "    # Визуализация\n",
    "    plt.hist(pd_boot_data[0], bins = 50)\n",
    "    \n",
    "    plt.style.use('ggplot')\n",
    "    plt.vlines(ci,ymin=0,ymax=50,linestyle='--')\n",
    "    plt.xlabel('boot_data')\n",
    "    plt.ylabel('frequency')\n",
    "    plt.title(\"Histogram of boot_data\")\n",
    "    plt.show()\n",
    "       \n",
    "    return { \n",
    "            \"ci\": ci, \n",
    "            \"p_value\": p_value}"
   ]
  },
  {
   "cell_type": "code",
   "execution_count": 26,
   "id": "737db1b0",
   "metadata": {
    "scrolled": true
   },
   "outputs": [
    {
     "data": {
      "application/vnd.jupyter.widget-view+json": {
       "model_id": "12b883928711440589ad186021319bd3",
       "version_major": 2,
       "version_minor": 0
      },
      "text/plain": [
       "  0%|          | 0/2000 [00:00<?, ?it/s]"
      ]
     },
     "metadata": {},
     "output_type": "display_data"
    },
    {
     "data": {
      "image/png": "[encoded data removed]",
      "text/plain": [
       "<Figure size 432x288 with 1 Axes>"
      ]
     },
     "metadata": {},
     "output_type": "display_data"
    },
    {
     "data": {
      "text/plain": [
       "{'ci':               0\n",
       " 0.025 -0.008400\n",
       " 0.975  0.001754,\n",
       " 'p_value': 0.1943740756979645}"
      ]
     },
     "execution_count": 26,
     "metadata": {},
     "output_type": "execute_result"
    }
   ],
   "source": [
    "get_bootstrap(data_column_1, data_column_2)"
   ]
  },
  {
   "cell_type": "code",
   "execution_count": 27,
   "id": "4ddb3caa",
   "metadata": {},
   "outputs": [
    {
     "data": {
      "application/vnd.jupyter.widget-view+json": {
       "model_id": "36a25a8b2ee940e0a346a5af72a7c1ca",
       "version_major": 2,
       "version_minor": 0
      },
      "text/plain": [
       "  0%|          | 0/2000 [00:00<?, ?it/s]"
      ]
     },
     "metadata": {},
     "output_type": "display_data"
    },
    {
     "data": {
      "image/png": "[encoded data removed]",
      "text/plain": [
       "<Figure size 432x288 with 1 Axes>"
      ]
     },
     "metadata": {},
     "output_type": "display_data"
    },
    {
     "data": {
      "text/plain": [
       "{'ci':               0\n",
       " 0.025 -0.006701\n",
       " 0.975  0.002095,\n",
       " 'p_value': 0.3083037482161043}"
      ]
     },
     "execution_count": 27,
     "metadata": {},
     "output_type": "execute_result"
    }
   ],
   "source": [
    "get_bootstrap(data_column_1, data_column_3)"
   ]
  },
  {
   "cell_type": "code",
   "execution_count": 28,
   "id": "277e7085",
   "metadata": {},
   "outputs": [
    {
     "data": {
      "text/plain": [
       "MannwhitneyuResult(statistic=527057.5, pvalue=0.5066225494011554)"
      ]
     },
     "execution_count": 28,
     "metadata": {},
     "output_type": "execute_result"
    }
   ],
   "source": [
    "mannwhitneyu(data_column_1, data_column_2)"
   ]
  },
  {
   "cell_type": "code",
   "execution_count": 29,
   "id": "c5098e9f",
   "metadata": {},
   "outputs": [
    {
     "data": {
      "text/plain": [
       "MannwhitneyuResult(statistic=474479.0, pvalue=0.13752843373316873)"
      ]
     },
     "execution_count": 29,
     "metadata": {},
     "output_type": "execute_result"
    }
   ],
   "source": [
    "mannwhitneyu(data_column_1, data_column_3)"
   ]
  },
  {
   "cell_type": "code",
   "execution_count": null,
   "id": "eed0a5ab",
   "metadata": {},
   "outputs": [],
   "source": [
    "#p-value = 0.3, результаты теста не принимаются, контрольная группа победила"
   ]
  }
 ],
 "metadata": {
  "kernelspec": {
   "display_name": "Python 3 (ipykernel)",
   "language": "python",
   "name": "python3"
  },
  "language_info": {
   "codemirror_mode": {
    "name": "ipython",
    "version": 3
   },
   "file_extension": ".py",
   "mimetype": "text/x-python",
   "name": "python",
   "nbconvert_exporter": "python",
   "pygments_lexer": "ipython3",
   "version": "3.9.7"
  }
 },
 "nbformat": 4,
 "nbformat_minor": 5
}
